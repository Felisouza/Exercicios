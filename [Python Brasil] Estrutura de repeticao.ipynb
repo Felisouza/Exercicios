{
 "cells": [
  {
   "cell_type": "markdown",
   "metadata": {},
   "source": [
    "### 1. Faça um programa que peça uma nota, entre zero e dez. Mostre uma mensagem caso o valor seja inválido e continue pedindo até que o usuário informe um valor válido. "
   ]
  },
  {
   "cell_type": "code",
   "execution_count": 2,
   "metadata": {},
   "outputs": [
    {
     "name": "stdout",
     "output_type": "stream",
     "text": [
      "Digite uma nota de 0 a 10: 0.5\n",
      "Valor inválido\n",
      "Digite uma nota de 0 a 10: 5.5\n",
      "Valor inválido\n",
      "Digite uma nota de 0 a 10: 5.5\n",
      "Valor inválido\n",
      "Digite uma nota de 0 a 10: 5\n",
      "\n",
      "A nota digitada foi 5.\n"
     ]
    }
   ],
   "source": [
    "n = float(input('Digite uma nota de 0 a 10: '))\n",
    "\n",
    "while n not in range(0,11):\n",
    "    print('Valor inválido')\n",
    "    n = float(input('Digite uma nota de 0 a 10: '))\n",
    "    \n",
    "print()\n",
    "print('A nota digitada foi %1.f.' %(n))"
   ]
  },
  {
   "cell_type": "code",
   "execution_count": 8,
   "metadata": {},
   "outputs": [
    {
     "name": "stdout",
     "output_type": "stream",
     "text": [
      "Digite uma nota de 0 a 10: 0.5\n",
      "\n",
      "A nota digitada foi 0.5.\n"
     ]
    }
   ],
   "source": [
    "n = float(input('Digite uma nota de 0 a 10: '))\n",
    "\n",
    "while n < 0 or n > 10:\n",
    "    print('Valor inválido')\n",
    "    n = float(input('Digite uma nota de 0 a 10: '))\n",
    "    \n",
    "print()\n",
    "print('A nota digitada foi %.1f.' %(n))"
   ]
  },
  {
   "cell_type": "markdown",
   "metadata": {},
   "source": [
    "### 2. Faça um programa que leia um nome de usuário e a sua senha e não aceite a senha igual ao nome do usuário, mostrando uma mensagem de erro e voltando a pedir as informações. "
   ]
  },
  {
   "cell_type": "code",
   "execution_count": 3,
   "metadata": {},
   "outputs": [
    {
     "name": "stdout",
     "output_type": "stream",
     "text": [
      "Insira o nome: Felipe \n",
      "Insira a senha: hhh\n",
      "\n",
      "Acesso permitido!\n"
     ]
    }
   ],
   "source": [
    "nome = input('Insira o nome: ')\n",
    "senha = input('Insira a senha: ')\n",
    "\n",
    "while nome == senha:\n",
    "    print('Senha inválida')\n",
    "    print()\n",
    "    nome = input('Insira o nome: ')\n",
    "    print()\n",
    "    senha = input('Insira a senha: ')\n",
    "print()\n",
    "print('Acesso permitido!')"
   ]
  },
  {
   "cell_type": "markdown",
   "metadata": {},
   "source": [
    "### 3. Faça um programa que leia e valide as seguintes informações:\n",
    "\n",
    "    Nome: maior que 3 caracteres;\n",
    "    Idade: entre 0 e 150;\n",
    "    Salário: maior que zero;\n",
    "    Sexo: 'f' ou 'm';\n",
    "    Estado Civil: 's', 'c', 'v', 'd'; "
   ]
  },
  {
   "cell_type": "code",
   "execution_count": 13,
   "metadata": {},
   "outputs": [
    {
     "name": "stdout",
     "output_type": "stream",
     "text": [
      "Insira seu nome: Felipe\n",
      "Insira a idade: 29\n",
      "Insira o salário: 1601\n",
      "Insira o sexo: [F ou M]M\n",
      "Insira o estado civil: [S, C, V ou D]S\n",
      "\n",
      "Nome: Felipe.\n",
      "Idade: 29 anos.\n",
      "Salário: R$1601,00.\n",
      "Sexo: M.\n",
      "Estado civil: S.\n"
     ]
    }
   ],
   "source": [
    "nome = input('Insira seu nome: ')\n",
    "idade = int(input(\"Insira a idade: \"))\n",
    "salario = int(input('Insira o salário: '))\n",
    "sexo = input('Insira o sexo: [F ou M]')\n",
    "civil = input('Insira o estado civil: [S, C, V ou D]')\n",
    "\n",
    "while len(nome)<=3:\n",
    "    print('Nome inválido')\n",
    "    nome = input('Insira seu nome: ')\n",
    "while idade not in range(0,151):\n",
    "    print('Idade inválida')\n",
    "    idade = int(input(\"Insira a idade: \"))\n",
    "while salario < 0:\n",
    "    print('Salário inválido')\n",
    "    salario = int(input('Insira o salário: '))\n",
    "while sexo != 'f' and sexo != 'F' and sexo != 'm' and sexo != 'M':\n",
    "    print('Sexo inválido')\n",
    "    sexo = input('Insira o sexo: [F ou M]')\n",
    "while civil != 's' and civil != 'S' and civil != 'c' and civil != 'C' and civil != 'v' and civil != 'V' and civil != 'd' and civil != 'D':\n",
    "    print('Estado civil inválido!')\n",
    "    civil = input('Insira o estado civil: [S, C, V ou D]')\n",
    "\n",
    "\n",
    "print()\n",
    "print('Nome: {}.'.format(nome))\n",
    "print('Idade: {} anos.'.format(idade))\n",
    "print('Salário: R${},00.'.format(salario))\n",
    "print('Sexo: {}.'.format(sexo))\n",
    "print('Estado civil: {}.'.format(civil))"
   ]
  },
  {
   "cell_type": "markdown",
   "metadata": {},
   "source": [
    "### 4. Supondo que a população de um país A seja da ordem de 80000 habitantes com uma taxa anual de crescimento de 3% e que a população de B seja 200000 habitantes com uma taxa de crescimento de 1.5%. Faça um programa que calcule e escreva o número de anos necessários para que a população do país A ultrapasse ou iguale a população do país B, mantidas as taxas de crescimento. "
   ]
  },
  {
   "cell_type": "code",
   "execution_count": 18,
   "metadata": {},
   "outputs": [
    {
     "name": "stdout",
     "output_type": "stream",
     "text": [
      " Após 63 anos o país A superou a população do país B.\n",
      " População do país A é de 510964.42 e do país B é de 515033.10.\n"
     ]
    }
   ],
   "source": [
    "habA = 80000\n",
    "habB = 200000\n",
    "ano = 0\n",
    "\n",
    "while habA<habB:\n",
    "    habB += (habB*1.5)/100\n",
    "    habA += (habA*3)/100\n",
    "    ano += 1\n",
    "print(' Após %d anos o país A superou a população do país B.\\n População do país A é de %.2f e do país B é de %.2f.' %(ano, habB, habA))\n"
   ]
  },
  {
   "cell_type": "markdown",
   "metadata": {},
   "source": [
    "### 5. Altere o programa anterior permitindo ao usuário informar as populações e as taxas de crescimento iniciais. Valide a entrada e permita repetir a operação. "
   ]
  },
  {
   "cell_type": "code",
   "execution_count": 15,
   "metadata": {},
   "outputs": [
    {
     "name": "stdout",
     "output_type": "stream",
     "text": [
      "Insira a população inicial: 8\n",
      "Qual a taxa de crescimento?1\n",
      "Insira a população inicial: 9\n",
      "Qual a taxa de crescimento?0\n",
      "1\n",
      "2\n",
      "3\n",
      "4\n",
      "5\n",
      "6\n",
      "7\n",
      "8\n",
      "9\n",
      "10\n",
      "11\n",
      "12\n",
      " Após 12 anos o país A superou a população do país B.\n",
      " População do país A é de 9.00 e do país B é de 9.01.\n"
     ]
    }
   ],
   "source": [
    "habA = int(input('Insira a população inicial: '))\n",
    "cresA = float(input(\"Qual a taxa de crescimento?\"))\n",
    "habB = int(input('Insira a população inicial: '))\n",
    "cresB = float(input(\"Qual a taxa de crescimento?\"))\n",
    "ano = 0\n",
    "\n",
    "while habA<habB:\n",
    "    habB += (habB*cresB)/100\n",
    "    habA += (habA*cresA)/100\n",
    "    ano += 1\n",
    "    print(ano)\n",
    "print(' Após %d anos o país A superou a população do país B.\\n População do país A é de %.2f e do país B é de %.2f.' %(ano, habB, habA))"
   ]
  },
  {
   "cell_type": "markdown",
   "metadata": {},
   "source": [
    "### 6. Faça um programa que imprima na tela os números de 1 a 20, um abaixo do outro. Depois modifique o programa para que ele mostre os números um ao lado do outro. "
   ]
  },
  {
   "cell_type": "code",
   "execution_count": 3,
   "metadata": {},
   "outputs": [
    {
     "name": "stdout",
     "output_type": "stream",
     "text": [
      "1\n",
      "2\n",
      "3\n",
      "4\n",
      "5\n",
      "6\n",
      "7\n",
      "8\n",
      "9\n",
      "10\n",
      "11\n",
      "12\n",
      "13\n",
      "14\n",
      "15\n",
      "16\n",
      "17\n",
      "18\n",
      "19\n",
      "20\n"
     ]
    }
   ],
   "source": [
    "for i in range(1,21):\n",
    "    print(i, end='\\n')"
   ]
  }
 ],
 "metadata": {
  "kernelspec": {
   "display_name": "Python 3",
   "language": "python",
   "name": "python3"
  },
  "language_info": {
   "codemirror_mode": {
    "name": "ipython",
    "version": 3
   },
   "file_extension": ".py",
   "mimetype": "text/x-python",
   "name": "python",
   "nbconvert_exporter": "python",
   "pygments_lexer": "ipython3",
   "version": "3.7.6"
  }
 },
 "nbformat": 4,
 "nbformat_minor": 4
}
