{
 "cells": [
  {
   "cell_type": "markdown",
   "metadata": {},
   "source": [
    "# Caderno 1"
   ]
  },
  {
   "cell_type": "code",
   "execution_count": 2,
   "metadata": {},
   "outputs": [],
   "source": [
    "def moeda(valor=0, moeda='R$'):\n",
    "    return f'{moeda}{valor:.2f}'.replace('.', ',')"
   ]
  },
  {
   "cell_type": "markdown",
   "metadata": {},
   "source": [
    "### 1. Faça um Programa que mostre a mensagem \"Alo mundo\" na tela"
   ]
  },
  {
   "cell_type": "code",
   "execution_count": null,
   "metadata": {},
   "outputs": [],
   "source": [
    "print('Alô mundo')"
   ]
  },
  {
   "cell_type": "markdown",
   "metadata": {},
   "source": [
    "### 2. Faça um Programa que peça um número e então mostre a mensagem O número informado foi [número]."
   ]
  },
  {
   "cell_type": "code",
   "execution_count": null,
   "metadata": {},
   "outputs": [],
   "source": [
    "n = int(input(\"Insira um número: \"))\n",
    "print(\"o número informado foi: {}\". format(n) )"
   ]
  },
  {
   "cell_type": "markdown",
   "metadata": {},
   "source": [
    "### 3. Faça um Programa que peça dois números e imprima a soma."
   ]
  },
  {
   "cell_type": "code",
   "execution_count": null,
   "metadata": {},
   "outputs": [],
   "source": [
    "n = int(input(\"Insira o primeiro número: \"))\n",
    "m = int(input(\"Insira o segundo número: \"))\n",
    "soma = n + m\n",
    "print(\"A soma dos números é: {}\".format(soma))"
   ]
  },
  {
   "cell_type": "markdown",
   "metadata": {},
   "source": [
    "### 4. Faça um Programa que peça as 4 notas bimestrais e mostre a média. "
   ]
  },
  {
   "cell_type": "code",
   "execution_count": null,
   "metadata": {},
   "outputs": [],
   "source": [
    "n1 = int(input(\"Insira a primeira nota: \"))\n",
    "n2 = int(input(\"Insira a segunda nota: \"))\n",
    "n3 = int(input(\"Insira a terceira nota: \"))\n",
    "n4 = int(input(\"Insira a quarta nota: \"))\n",
    "media = (n1+n2+n3+n4)/4\n",
    "print (\"A média das notas é: {}\".format(media))"
   ]
  },
  {
   "cell_type": "markdown",
   "metadata": {},
   "source": [
    "### 5. Faça um Programa que converta metros para centímetros. "
   ]
  },
  {
   "cell_type": "code",
   "execution_count": null,
   "metadata": {},
   "outputs": [],
   "source": [
    "m = int(input(\"Converta metros em centrímetros: \"))\n",
    "c = m * 100\n",
    "\n",
    "print(\"{} metros dá {} centímetros. \". format(m, c))\n",
    "\n"
   ]
  },
  {
   "cell_type": "markdown",
   "metadata": {},
   "source": [
    "### 6. Faça um Programa que peça o raio de um círculo, calcule e mostre sua área. "
   ]
  },
  {
   "cell_type": "code",
   "execution_count": null,
   "metadata": {},
   "outputs": [],
   "source": [
    "r = int(input(\"Qual o raio do círculo? \"))\n",
    "A = math.pi*(r**2)\n",
    "\n",
    "print()\n",
    "print(\"A área do círculo é {:.3f}.\".format(A))"
   ]
  },
  {
   "cell_type": "code",
   "execution_count": null,
   "metadata": {},
   "outputs": [],
   "source": [
    "import math"
   ]
  },
  {
   "cell_type": "markdown",
   "metadata": {},
   "source": [
    "### 7. Faça um Programa que calcule a área de um quadrado, em seguida mostre o dobro desta área para o usuário. "
   ]
  },
  {
   "cell_type": "code",
   "execution_count": null,
   "metadata": {},
   "outputs": [],
   "source": [
    "L = int(input(\"Insira o tamanho do quadrado: \"))\n",
    "A = L**2\n",
    "dobro = A*2\n",
    "\n",
    "print()\n",
    "print(\"A área do quadrado é {} e seu dobro é {}\".format(A, dobro))"
   ]
  },
  {
   "cell_type": "markdown",
   "metadata": {},
   "source": [
    "### 8. Faça um Programa que pergunte quanto você ganha por hora e o número de horas trabalhadas no mês. Calcule e mostre o total do seu salário no referido mês. "
   ]
  },
  {
   "cell_type": "code",
   "execution_count": null,
   "metadata": {},
   "outputs": [],
   "source": [
    "def moeda(valor=0, moeda='R$'):\n",
    "    return f'{moeda}{valor:.2f}'.replace('.', ',')"
   ]
  },
  {
   "cell_type": "code",
   "execution_count": null,
   "metadata": {},
   "outputs": [],
   "source": [
    "s = float(input(\"Qual o valor da sua hora trabalhada? \"))\n",
    "h = int(input(\"Quantas horas trabalhou nesse mês? \"))\n",
    "tot = h*s\n",
    "\n",
    "print()\n",
    "print(\"Seu salário, desse mês, é de {}\".format(moeda(tot)))"
   ]
  },
  {
   "cell_type": "markdown",
   "metadata": {},
   "source": [
    "### 9. Faça um Programa que peça a temperatura em graus Fahrenheit, transforme e mostre a temperatura em graus Celsius.\n",
    "\n",
    "    C = 5 * ((F-32) / 9). "
   ]
  },
  {
   "cell_type": "code",
   "execution_count": null,
   "metadata": {},
   "outputs": [],
   "source": [
    "F = float(input(\"Insira a temperatura em Fahrenheit: \"))\n",
    "C = 5 * ((F-32) / 9)\n",
    "\n",
    "print()\n",
    "print(\"A temperatura em Celcius é de {:.1f}ºC.\".format(C))"
   ]
  },
  {
   "cell_type": "markdown",
   "metadata": {},
   "source": [
    "### 10. Faça um Programa que peça a temperatura em graus Celsius, transforme e mostre em graus Fahrenheit. "
   ]
  },
  {
   "cell_type": "code",
   "execution_count": null,
   "metadata": {},
   "outputs": [],
   "source": [
    "C = float(input(\"Insira a temperatura em Celsius: \"))\n",
    "C = (C*9)+160\n",
    "F = C/5\n",
    "\n",
    "print()\n",
    "print(\"A temperatura em Fahrenheit é de {:.1f}ºF\".format(F))"
   ]
  },
  {
   "cell_type": "markdown",
   "metadata": {},
   "source": [
    "### 11. Faça um Programa que peça 2 números inteiros e um número real. Calcule e mostre:\n",
    "\n",
    "    a. o produto do dobro do primeiro com metade do segundo.\n",
    "    b. a soma do triplo do primeiro com o terceiro.\n",
    "    c. o terceiro elevado ao cubo. "
   ]
  },
  {
   "cell_type": "code",
   "execution_count": null,
   "metadata": {},
   "outputs": [],
   "source": [
    "a = int(input(\"Insira o primeiro número: \"))\n",
    "b = int(input(\"Insira o segundo número: \"))\n",
    "c = float(input(\"Insira o terceiro número: \"))\n",
    "\n",
    "x = (a*2) * (b/2)\n",
    "y = (a*3)+c\n",
    "z = c**3\n",
    "\n",
    "print()\n",
    "print(\"O produto do dobro do primeiro com metade do segundo é {:.0f}.\". format(x))\n",
    "print(\"A soma do triplo do primeiro com o terceiro é {:.0f}.\".format(y))\n",
    "print(\"o terceiro elevado ao cubo é {}.\".format(z))"
   ]
  },
  {
   "cell_type": "markdown",
   "metadata": {},
   "source": [
    "### 12. Tendo como dados de entrada a altura de uma pessoa, construa um algoritmo que calcule seu peso ideal, usando a seguinte fórmula: (72.7*altura) - 58"
   ]
  },
  {
   "cell_type": "code",
   "execution_count": null,
   "metadata": {},
   "outputs": [],
   "source": [
    "altura = float(input(\"Qual é a sua altura? \"))\n",
    "peso = (72.7*altura) - 58\n",
    "\n",
    "print()\n",
    "print(\"Seu peso ideal é {:.2f}\".format(peso))"
   ]
  },
  {
   "cell_type": "markdown",
   "metadata": {},
   "source": [
    "### 13. Tendo como dado de entrada a altura (h) de uma pessoa, construa um algoritmo que calcule seu peso ideal, utilizando as seguintes fórmulas:\n",
    "\n",
    "    Para homens: (72.7*h) - 58\n",
    "    Para mulheres: (62.1*h) - 44.7 "
   ]
  },
  {
   "cell_type": "code",
   "execution_count": null,
   "metadata": {},
   "outputs": [],
   "source": [
    "sexo = input(\"Qual seu sexo? m/f \")\n",
    "h = float(input(\"Qual é a sua altura? \"))\n",
    "peso = 0\n",
    "\n",
    "if sexo == 'm':\n",
    "    peso = (72.7*h) - 58\n",
    "else:\n",
    "    peso = (62.1*h) - 44.7 \n",
    "print()\n",
    "print(\"Seu peso ideal é {:.2f}\".format(peso))\n",
    "    "
   ]
  },
  {
   "cell_type": "markdown",
   "metadata": {},
   "source": [
    "### 14. João Papo-de-Pescador, homem de bem, comprou um microcomputador para controlar o rendimento diário de seu trabalho. Toda vez que ele traz um peso de peixes maior que o estabelecido pelo regulamento de pesca do estado de São Paulo (50 quilos) deve pagar uma multa de R$ 4,00 por quilo excedente. João precisa que você faça um programa que leia a variável peso (peso de peixes) e calcule o excesso. Gravar na variável excesso a quantidade de quilos além do limite e na variável multa o valor da multa que João deverá pagar. Imprima os dados do programa com as mensagens adequadas. "
   ]
  },
  {
   "cell_type": "code",
   "execution_count": null,
   "metadata": {},
   "outputs": [],
   "source": [
    "peso = int(input(\"Quantos quilos você trouxe? \"))\n",
    "multa = 4\n",
    "excesso = 0\n",
    "max_pesca = 50\n",
    "\n",
    "if peso > 50:\n",
    "    excesso = peso - 50\n",
    "    multa = excesso * 4\n",
    "    print()\n",
    "    print(\"Você trouxe {}kg quilos excedente, então você deve pagar {} de multa.\"\n",
    "          .format(excesso, moeda(multa)))\n",
    "else:\n",
    "    print()\n",
    "    print(\"Você está dentro do limite. \")\n",
    "    "
   ]
  },
  {
   "cell_type": "markdown",
   "metadata": {},
   "source": [
    "### 15. Faça um Programa que pergunte quanto você ganha por hora e o número de horas trabalhadas no mês. Calcule e mostre o total do seu salário no referido mês, sabendo-se que são descontados 11% para o Imposto de Renda, 8% para o INSS e 5% para o sindicato, faça um programa que nos dê:\n",
    "\n",
    "    salário bruto.\n",
    "    quanto pagou ao INSS.\n",
    "    quanto pagou ao sindicato.\n",
    "    o salário líquido.\n",
    "    calcule os descontos e o salário líquido, conforme a tabela abaixo: "
   ]
  },
  {
   "cell_type": "code",
   "execution_count": null,
   "metadata": {},
   "outputs": [],
   "source": [
    "salario = float(input(\"Qual é o valor da sua hora trabalhada? \"))\n",
    "horas = float(input(\"Quantas horas você trabalhou esse mês? \"))\n",
    "tot_bruto = salario*horas\n",
    "\n",
    "IR = (tot_bruto*11)/100\n",
    "INSS = (tot_bruto*8)/100\n",
    "SIND = (tot_bruto*5)/100\n",
    "\n",
    "liquido = tot_bruto-IR-INSS-SIND\n",
    "\n",
    "print()\n",
    "print(\"Seu salário bruto é {}.\".format(moeda(tot_bruto)))\n",
    "print(\"Seu imposto de renda é {}.\".format(moeda(IR)))\n",
    "print(\"Seu INSS é {}.\".format(moeda(INSS)))\n",
    "print(\"Sua contribuição ao sindicato é de {}.\".format(moeda(SIND)))\n",
    "print(\"Seu salário líquido é {}.\".format(moeda(liquido)))\n"
   ]
  },
  {
   "cell_type": "markdown",
   "metadata": {},
   "source": [
    "### 16. Faça um programa para uma loja de tintas. O programa deverá pedir o tamanho em metros quadrados da área a ser pintada. Considere que a cobertura da tinta é de 1 litro para cada 3 metros quadrados e que a tinta é vendida em latas de 18 litros, que custam R$ 80,00. Informe ao usuário a quantidades de latas de tinta a serem compradas e o preço total. "
   ]
  },
  {
   "cell_type": "code",
   "execution_count": null,
   "metadata": {},
   "outputs": [],
   "source": [
    "import math\n",
    "n = float(input(\"Quantos metros quadrados o senhor deseja pintar? \"))\n",
    "\n",
    "preco = 80\n",
    "quant_litro = (n*18)/54\n",
    "quant_lata = quant_litro/18\n",
    "if quant_lata < 1:\n",
    "    quant_lata = 1\n",
    "else:\n",
    "    quant_lata = math.ceil(quant_lata)  #Função do módulo math que arredonda para cima. Dá para fazer com essa fórmula(quant_lata + (1 if quant_lata % int(quant_lata) else 0)), mas é bem mais simples com a função do módulo math.\n",
    "    preco = quant_lata*preco\n",
    "\n",
    "print()\n",
    "print(\"Para pintar {:.0f}m², o senhor precisará de {:.0f} latas que custam {} \"\n",
    "      .format(n, quant_lata, moeda(preco)))"
   ]
  },
  {
   "cell_type": "markdown",
   "metadata": {},
   "source": [
    "### 17. Faça um Programa para uma loja de tintas. O programa deverá pedir o tamanho em metros quadrados da área a ser pintada. Considere que a cobertura da tinta é de 1 litro para cada 6 metros quadrados e que a tinta é vendida em latas de 18 litros, que custam  80,00 ou em galões de 3,6 litros, que custam  25,00.\n",
    "\n",
    "    Informe ao usuário as quantidades de tinta a serem compradas e os respectivos preços em 3 situações:\n",
    "    comprar apenas latas de 18 litros;\n",
    "    comprar apenas galões de 3,6 litros;\n",
    "    misturar latas e galões, de forma que o desperdício de tinta seja menor. Acrescente 10% de folga e sempre arredonde os valores para cima, isto é, considere latas cheias. "
   ]
  },
  {
   "cell_type": "code",
   "execution_count": 3,
   "metadata": {},
   "outputs": [
    {
     "name": "stdout",
     "output_type": "stream",
     "text": [
      "Quantos metros quadrados o senhor deseja pintar? 35\n",
      "Para pintar 35m², o senhor precisará de 0 latas e 2 galões que custam R$50,00. \n"
     ]
    }
   ],
   "source": [
    "import math\n",
    "n = float(input(\"Quantos metros quadrados o senhor deseja pintar? \"))\n",
    "\n",
    "\n",
    "litros = n/6\n",
    "\n",
    "quant_lata = litros//18 #A lata recebe o valor inteiro em litros\n",
    "quant_galao = litros%18 #Os galões recebem o valor que falta \n",
    "quant_galao = math.ceil(quant_galao/3.6) #Aqui arredondo para saber o quantos galões vai precisar.\n",
    "\n",
    "preco = (quant_lata*80) + (quant_galao*25)\n",
    "\n",
    "print(\"Para pintar {:.0f}m², o senhor precisará de {:.0f} latas e {:.0f} galões que custam {}. \"\n",
    "      .format(n, quant_lata, quant_galao, moeda(preco)))"
   ]
  },
  {
   "cell_type": "markdown",
   "metadata": {},
   "source": [
    "### 18. Faça um programa que peça o tamanho de um arquivo para download (em MB) e a velocidade de um link de Internet (em Mbps), calcule e informe o tempo aproximado de download do arquivo usando este link (em minutos). "
   ]
  },
  {
   "cell_type": "code",
   "execution_count": 17,
   "metadata": {},
   "outputs": [
    {
     "name": "stdout",
     "output_type": "stream",
     "text": [
      "Qual o tamanho do arquivo para download? 120\n",
      "Qual a velocidade?  10\n",
      "O tempo aproximado para download é de 720 minutos.\n"
     ]
    }
   ],
   "source": [
    "tamanho = float(input(\"Qual o tamanho do arquivo para download? \"))\n",
    "velocidade = float(input(\"Qual a velocidade?  \"))\n",
    "\n",
    "t = tamanho/velocidade\n",
    "\n",
    "tempo = t*60\n",
    "\n",
    "print(\"O tempo aproximado para download é de {:.0f} minutos.\" .format(tempo))"
   ]
  },
  {
   "cell_type": "code",
   "execution_count": null,
   "metadata": {},
   "outputs": [],
   "source": []
  }
 ],
 "metadata": {
  "kernelspec": {
   "display_name": "Python 3",
   "language": "python",
   "name": "python3"
  },
  "language_info": {
   "codemirror_mode": {
    "name": "ipython",
    "version": 3
   },
   "file_extension": ".py",
   "mimetype": "text/x-python",
   "name": "python",
   "nbconvert_exporter": "python",
   "pygments_lexer": "ipython3",
   "version": "3.7.6"
  }
 },
 "nbformat": 4,
 "nbformat_minor": 4
}
