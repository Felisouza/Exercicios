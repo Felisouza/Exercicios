{
 "metadata": {
  "language_info": {
   "codemirror_mode": {
    "name": "ipython",
    "version": 3
   },
   "file_extension": ".py",
   "mimetype": "text/x-python",
   "name": "python",
   "nbconvert_exporter": "python",
   "pygments_lexer": "ipython3",
   "version": "3.9.2"
  },
  "orig_nbformat": 2,
  "kernelspec": {
   "name": "python392jvsc74a57bd00f5ee62b9bd4872a169187f446ffcddcc0aa2a9a82d62ac932aa513a1596deca",
   "display_name": "Python 3.9.2 64-bit"
  },
  "metadata": {
   "interpreter": {
    "hash": "0f5ee62b9bd4872a169187f446ffcddcc0aa2a9a82d62ac932aa513a1596deca"
   }
  }
 },
 "nbformat": 4,
 "nbformat_minor": 2,
 "cells": [
  {
   "source": [
    "### 1 - Crie um programa onde a pessoa usuária possa digitar sete valores numéricos e cadastre-os em uma lista, já na posição correta de inserção (sem usar o sort()).\n",
    "No final, mostre a lista ordenada na tela."
   ],
   "cell_type": "markdown",
   "metadata": {}
  },
  {
   "cell_type": "code",
   "execution_count": 1,
   "metadata": {},
   "outputs": [
    {
     "output_type": "stream",
     "name": "stdout",
     "text": [
      "Lista atual: [2]\n",
      "Lista atual: [1, 2]\n",
      "Lista atual: [1, 2, 3]\n",
      "Lista atual: [-1, 1, 2, 3]\n",
      "Lista atual: [-1, 1, 2, 3, 50]\n",
      "Lista atual: [-1, 1, 2, 3, 8, 50]\n",
      "Lista atual: [-1, 1, 2, 3, 6, 8, 50]\n",
      "Lista atual: [-1, 1, 2, 2, 3, 6, 8, 50]\n"
     ]
    }
   ],
   "source": [
    "lista = []\n",
    "for i in range(8):\n",
    "    numero = int(input(\"Digite um número: \"))\n",
    "    for chave, valor in enumerate(lista):\n",
    "        if numero < valor:\n",
    "            lista.insert(chave, numero)\n",
    "            break\n",
    "    else:\n",
    "        lista.append(numero)\n",
    "    print(l)"
   ]
  },
  {
   "source": [
    "### 2 - Crie um programa que leia vários números e colocar em uma lista. Depois disso, mostre:\n",
    "- Quantos números foram digitados.\n",
    "- A lista de valores, ordenada de forma decrescente.\n",
    "- Se o valor 5 foi digitado e está ou não na lista."
   ],
   "cell_type": "markdown",
   "metadata": {}
  },
  {
   "cell_type": "code",
   "execution_count": 105,
   "metadata": {},
   "outputs": [
    {
     "output_type": "stream",
     "name": "stdout",
     "text": [
      "A lista tem 5 números.\n[80, 50, 5, 2, -5].\nA lista tem o número 5.\n"
     ]
    }
   ],
   "source": [
    "lista = []\n",
    "continuar = 'Sim'\n",
    "cinco = 'não tem o número 5'\n",
    "while continuar[0].lower() == 's':\n",
    "    valores = int(input('Digite um número: '))\n",
    "    continuar = input('Quer continuar?[S/N] ')\n",
    "    lista.append(valores)\n",
    "\n",
    "for i in lista:\n",
    "    if i == 5:\n",
    "        cinco = 'tem o número 5'\n",
    "\n",
    "\n",
    "print(f'A lista tem {len(lista)} números.')\n",
    "print(f'{sorted(lista, reverse=True)}.')\n",
    "print(f'A lista {cinco}.')"
   ]
  },
  {
   "source": [
    "### 3 - Faça um programa que leia nome e altura de várias pessoas, guardando tudo em uma lista. No final, mostre:\n",
    "- Quantas pessoas foram cadastradas.\n",
    "- Uma listagem com as pessoas mais altas.\n",
    "- Uma listagem com as pessoas mais baixas."
   ],
   "cell_type": "markdown",
   "metadata": {}
  },
  {
   "cell_type": "code",
   "execution_count": 2,
   "metadata": {},
   "outputs": [
    {
     "output_type": "error",
     "ename": "ValueError",
     "evalue": "could not convert string to float: ''",
     "traceback": [
      "\u001b[1;31m---------------------------------------------------------------------------\u001b[0m",
      "\u001b[1;31mValueError\u001b[0m                                Traceback (most recent call last)",
      "\u001b[1;32m<ipython-input-2-5bf45e4165ba>\u001b[0m in \u001b[0;36m<module>\u001b[1;34m\u001b[0m\n\u001b[0;32m      2\u001b[0m \u001b[1;33m\u001b[0m\u001b[0m\n\u001b[0;32m      3\u001b[0m \u001b[0mnome\u001b[0m \u001b[1;33m=\u001b[0m \u001b[0minput\u001b[0m\u001b[1;33m(\u001b[0m\u001b[1;34m'Insira o nome da pessoa: '\u001b[0m\u001b[1;33m)\u001b[0m\u001b[1;33m\u001b[0m\u001b[1;33m\u001b[0m\u001b[0m\n\u001b[1;32m----> 4\u001b[1;33m \u001b[0maltura\u001b[0m \u001b[1;33m=\u001b[0m \u001b[0mfloat\u001b[0m\u001b[1;33m(\u001b[0m\u001b[0minput\u001b[0m\u001b[1;33m(\u001b[0m\u001b[1;34m'Agora insira seu tamanho: '\u001b[0m\u001b[1;33m)\u001b[0m\u001b[1;33m)\u001b[0m\u001b[1;33m\u001b[0m\u001b[1;33m\u001b[0m\u001b[0m\n\u001b[0m\u001b[0;32m      5\u001b[0m \u001b[0mcontinuar\u001b[0m \u001b[1;33m=\u001b[0m \u001b[0minput\u001b[0m\u001b[1;33m(\u001b[0m\u001b[1;34m'Deseja continuar?[S/N]'\u001b[0m\u001b[1;33m)\u001b[0m\u001b[1;33m\u001b[0m\u001b[1;33m\u001b[0m\u001b[0m\n\u001b[0;32m      6\u001b[0m \u001b[0mlista\u001b[0m\u001b[1;33m[\u001b[0m\u001b[0mnome\u001b[0m\u001b[1;33m]\u001b[0m \u001b[1;33m=\u001b[0m \u001b[0maltura\u001b[0m\u001b[1;33m\u001b[0m\u001b[1;33m\u001b[0m\u001b[0m\n",
      "\u001b[1;31mValueError\u001b[0m: could not convert string to float: ''"
     ]
    }
   ],
   "source": [
    "lista = {}\n",
    "\n",
    "nome = input('Insira o nome da pessoa: ')\n",
    "altura = float(input('Agora insira seu tamanho: '))\n",
    "continuar = input('Deseja continuar?[S/N]')\n",
    "lista[nome] = altura\n",
    "\n",
    "#Cadastrando as pessoas\n",
    "while continuar[0].lower() == 's':\n",
    "    nome = input('Insira o nome da pessoa: ')\n",
    "    altura = float(input('Agora insira seu tamanho: '))\n",
    "    lista[nome] = altura\n",
    "    continuar = input('Deseja continuar?[S/N]')\n",
    "\n",
    "#Ordenando a lista\n",
    "ordenado = []\n",
    "for i, j in sorted(lista.items(j)):\n",
    "    ordenado.append(i)\n",
    "\n",
    "print(f'Temos {len(lista)} cadastradas.')\n",
    "print(f'Os mais baixos são {ordenado[0]} e {ordenado[1]}.')\n",
    "print(f'Os mais altos são {ordenado[-2]} e {ordenado[-1]}.')\n",
    "\n",
    "lista\n"
   ]
  },
  {
   "cell_type": "code",
   "execution_count": 4,
   "metadata": {},
   "outputs": [
    {
     "output_type": "stream",
     "name": "stdout",
     "text": [
      "Felipe Lina Arthur Bucetildes\n"
     ]
    },
    {
     "output_type": "error",
     "ename": "TypeError",
     "evalue": "'Felipe' is an invalid keyword argument for print()",
     "traceback": [
      "\u001b[1;31m---------------------------------------------------------------------------\u001b[0m",
      "\u001b[1;31mTypeError\u001b[0m                                 Traceback (most recent call last)",
      "\u001b[1;32m<ipython-input-4-f2b69383b49a>\u001b[0m in \u001b[0;36m<module>\u001b[1;34m\u001b[0m\n\u001b[0;32m      1\u001b[0m \u001b[0mdicionario\u001b[0m \u001b[1;33m=\u001b[0m \u001b[1;33m{\u001b[0m\u001b[1;34m'Felipe'\u001b[0m\u001b[1;33m:\u001b[0m \u001b[1;36m1.8\u001b[0m\u001b[1;33m,\u001b[0m \u001b[1;34m'Lina'\u001b[0m\u001b[1;33m:\u001b[0m \u001b[1;36m1.65\u001b[0m\u001b[1;33m,\u001b[0m \u001b[1;34m'Arthur'\u001b[0m\u001b[1;33m:\u001b[0m \u001b[1;36m1\u001b[0m\u001b[1;33m,\u001b[0m \u001b[1;34m'Bucetildes'\u001b[0m\u001b[1;33m:\u001b[0m \u001b[1;36m2.68\u001b[0m\u001b[1;33m}\u001b[0m\u001b[1;33m\u001b[0m\u001b[1;33m\u001b[0m\u001b[0m\n\u001b[0;32m      2\u001b[0m \u001b[0mprint\u001b[0m\u001b[1;33m(\u001b[0m\u001b[1;33m*\u001b[0m\u001b[0mdicionario\u001b[0m\u001b[1;33m)\u001b[0m\u001b[1;33m\u001b[0m\u001b[1;33m\u001b[0m\u001b[0m\n\u001b[1;32m----> 3\u001b[1;33m \u001b[0mprint\u001b[0m\u001b[1;33m(\u001b[0m\u001b[1;33m**\u001b[0m\u001b[0mdicionario\u001b[0m\u001b[1;33m)\u001b[0m\u001b[1;33m\u001b[0m\u001b[1;33m\u001b[0m\u001b[0m\n\u001b[0m\u001b[0;32m      4\u001b[0m \u001b[1;33m\u001b[0m\u001b[0m\n",
      "\u001b[1;31mTypeError\u001b[0m: 'Felipe' is an invalid keyword argument for print()"
     ]
    }
   ],
   "source": [
    "dicionario = {'Felipe': 1.8, 'Lina': 1.65, 'Arthur': 1, 'Bucetildes': 2.68}\n",
    "print(*dicionario)\n",
    "print(**dicionario)\n",
    "\n"
   ]
  },
  {
   "source": [],
   "cell_type": "markdown",
   "metadata": {}
  },
  {
   "source": [
    "### 4 - Crie um programa que leia vários números e coloque-os em uma lista. Depois disso, crie duas listasextras que vão conter apenas os valores pares e os valores ímpares digitados, respectivamente.\n",
    "\n",
    "Ao final, mostre o conteúdo das três listas geradas."
   ],
   "cell_type": "markdown",
   "metadata": {}
  },
  {
   "cell_type": "code",
   "execution_count": 43,
   "metadata": {},
   "outputs": [
    {
     "output_type": "stream",
     "name": "stdout",
     "text": [
      "Lista:  10 50 55 9 85 55 5 5 6 6\nPares:  10 50 6 6\nÍmpares:  55 9 85 55 5 5\n"
     ]
    }
   ],
   "source": [
    "lista = []\n",
    "par = []\n",
    "impar = []\n",
    "\n",
    "for i in range(10):\n",
    "    numeros = int(input('Insira um número: '))\n",
    "    lista.append(numeros)\n",
    "for j in lista:\n",
    "    if j%2 == 0:\n",
    "            par.append(j)\n",
    "    else:\n",
    "        impar.append(j)\n",
    "\n",
    "print(f'Lista: ', *lista)\n",
    "print(f'Pares: ', *par)\n",
    "print(f'Ímpares: ', *impar)\n"
   ]
  },
  {
   "source": [
    "### 5 - Crie um programa onde a pessoa usuária possa digitar vários valores numéricos e cadastre-os em umalista. Caso o número já exista lá dentro, ele não será adicionado."
   ],
   "cell_type": "markdown",
   "metadata": {}
  },
  {
   "cell_type": "code",
   "execution_count": 45,
   "metadata": {},
   "outputs": [
    {
     "output_type": "stream",
     "name": "stdout",
     "text": [
      "[1]\n",
      "[1, 2]\n",
      "[1, 2, 3]\n"
     ]
    }
   ],
   "source": [
    "lista = []\n",
    "for i in range(3):\n",
    "    numero = int(input('Insira um número: '))\n",
    "    if i not in lista.append(numero)\n",
    "    print(lista)"
   ]
  },
  {
   "cell_type": "code",
   "execution_count": null,
   "metadata": {},
   "outputs": [],
   "source": []
  }
 ]
}