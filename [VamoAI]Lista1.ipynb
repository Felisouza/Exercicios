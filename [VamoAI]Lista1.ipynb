{
 "metadata": {
  "language_info": {
   "codemirror_mode": {
    "name": "ipython",
    "version": 3
   },
   "file_extension": ".py",
   "mimetype": "text/x-python",
   "name": "python",
   "nbconvert_exporter": "python",
   "pygments_lexer": "ipython3",
   "version": "3.9.2"
  },
  "orig_nbformat": 2,
  "kernelspec": {
   "name": "python392jvsc74a57bd00f5ee62b9bd4872a169187f446ffcddcc0aa2a9a82d62ac932aa513a1596deca",
   "display_name": "Python 3.9.2 64-bit"
  },
  "metadata": {
   "interpreter": {
    "hash": "0f5ee62b9bd4872a169187f446ffcddcc0aa2a9a82d62ac932aa513a1596deca"
   }
  }
 },
 "nbformat": 4,
 "nbformat_minor": 2,
 "cells": [
  {
   "source": [
    "### 1 - Crie um programa onde a pessoa usuária possa digitar sete valores numéricos e cadastre-os em uma lista, já na posição correta de inserção (sem usar o sort()).\n",
    "No final, mostre a lista ordenada na tela."
   ],
   "cell_type": "markdown",
   "metadata": {}
  },
  {
   "cell_type": "code",
   "execution_count": 83,
   "metadata": {},
   "outputs": [
    {
     "output_type": "stream",
     "name": "stdout",
     "text": [
      "[4, 5, 5, 7, 7, 8, 20]\n"
     ]
    }
   ],
   "source": [
    "lista = []\n",
    "valores = int(input())\n",
    "lista.append(valores)\n",
    "while len(lista)<7:\n",
    "    valores = int(input())\n",
    "    lista.append(valores)\n",
    "lista.sort()\n",
    "print(lista)"
   ]
  },
  {
   "cell_type": "code",
   "execution_count": 86,
   "metadata": {},
   "outputs": [
    {
     "output_type": "stream",
     "name": "stdout",
     "text": [
      "[7, 8]\n",
      "[6, 6, 7, 8]\n",
      "[5, 5, 5, 5, 6, 6, 7, 8]\n"
     ]
    }
   ],
   "source": [
    "lista = []\n",
    "valores = int(input())\n",
    "lista.append(valores)\n",
    "while len(lista) < 7:\n",
    "    valores = int(input())\n",
    "    for i in range(len(lista)):\n",
    "        if valores < lista[i]:\n",
    "            lista.insert(i, valores)\n",
    "        else:\n",
    "            lista.append(valores)\n",
    " \n",
    "\n",
    "    print(lista)\n"
   ]
  },
  {
   "cell_type": "code",
   "execution_count": 79,
   "metadata": {},
   "outputs": [
    {
     "output_type": "stream",
     "name": "stdout",
     "text": [
      "Lista atual: [7]\n",
      "Lista atual: [6, 7]\n",
      "Lista atual: [5, 6, 7]\n",
      "Lista atual: [5, 6, 7, 8]\n",
      "Lista atual: [5, 5, 6, 7, 8]\n",
      "Lista atual: [2, 5, 5, 6, 7, 8]\n",
      "Lista atual: [1, 2, 5, 5, 6, 7, 8]\n",
      "Lista atual: [1, 2, 3, 5, 5, 6, 7, 8]\n"
     ]
    }
   ],
   "source": [
    "numeros = []\n",
    "for _ in range(8):\n",
    "    numero = int(input(\"Digite um número: \"))\n",
    "    for chave, valor in enumerate(numeros):\n",
    "        if numero < valor:\n",
    "            numeros.insert(chave, numero)\n",
    "            break\n",
    "    else:\n",
    "        numeros.append(numero)\n",
    "    print(\"Lista atual:\", numeros)"
   ]
  },
  {
   "source": [],
   "cell_type": "markdown",
   "metadata": {}
  },
  {
   "source": [
    "### 2 - Crie um programa que leia vários números e colocar em uma lista. Depois disso, mostre:\n",
    "- Quantos números foram digitados.\n",
    "- A lista de valores, ordenada de forma decrescente.\n",
    "- Se o valor 5 foi digitado e está ou não na lista."
   ],
   "cell_type": "markdown",
   "metadata": {}
  },
  {
   "cell_type": "code",
   "execution_count": 105,
   "metadata": {},
   "outputs": [
    {
     "output_type": "stream",
     "name": "stdout",
     "text": [
      "A lista tem 5 números.\n[80, 50, 5, 2, -5].\nA lista tem o número 5.\n"
     ]
    }
   ],
   "source": [
    "lista = []\n",
    "continuar = 'Sim'\n",
    "cinco = 'não tem o número 5'\n",
    "while continuar[0].lower() == 's':\n",
    "    valores = int(input('Digite um número: '))\n",
    "    continuar = input('Quer continuar?[S/N] ')\n",
    "    lista.append(valores)\n",
    "\n",
    "for i in lista:\n",
    "    if i == 5:\n",
    "        cinco = 'tem o número 5'\n",
    "\n",
    "\n",
    "print(f'A lista tem {len(lista)} números.')\n",
    "print(f'{sorted(lista, reverse=True)}.')\n",
    "print(f'A lista {cinco}.')"
   ]
  },
  {
   "source": [
    "### 3 - Faça um programa que leia nome e altura de várias pessoas, guardando tudo em uma lista. No final, mostre:\n",
    "- Quantas pessoas foram cadastradas.\n",
    "- Uma listagem com as pessoas mais altas.\n",
    "- Uma listagem com as pessoas mais baixas."
   ],
   "cell_type": "markdown",
   "metadata": {}
  },
  {
   "cell_type": "code",
   "execution_count": null,
   "metadata": {},
   "outputs": [],
   "source": []
  }
 ]
}