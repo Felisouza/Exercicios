{
 "cells": [
  {
   "cell_type": "markdown",
   "metadata": {},
   "source": [
    "### 1. Faça um Programa que peça dois números e imprima o maior deles. "
   ]
  },
  {
   "cell_type": "code",
   "execution_count": null,
   "metadata": {},
   "outputs": [],
   "source": [
    "n = int(input(\"Insira o primeiro número: \"))\n",
    "m = int(input(\"Insira o segundo número: \"))\n",
    "\n",
    "if n > m:\n",
    "    print (\"O maior número é {}\".format(n))\n",
    "else:\n",
    "    print(\"O maior número é {}\".format(m))"
   ]
  },
  {
   "cell_type": "markdown",
   "metadata": {},
   "source": [
    "### 2. Faça um Programa que peça um valor e mostre na tela se o valor é positivo ou negativo. "
   ]
  },
  {
   "cell_type": "code",
   "execution_count": null,
   "metadata": {},
   "outputs": [],
   "source": [
    "n = int(input(\"Insira um número: \"))\n",
    "\n",
    "if n >= 0:\n",
    "    print(\"O número é positivo\")\n",
    "else:\n",
    "    print(\"O número é negativo\")"
   ]
  },
  {
   "cell_type": "markdown",
   "metadata": {},
   "source": [
    "### 3. Faça um Programa que verifique se uma letra digitada é \"F\" ou \"M\". Conforme a letra escrever: F - Feminino, M - Masculino, Sexo Inválido."
   ]
  },
  {
   "cell_type": "code",
   "execution_count": null,
   "metadata": {},
   "outputs": [],
   "source": [
    "n = input(\"Digite seu sexo? (M ou F) \")\n",
    "\n",
    "\n",
    "\n",
    "if n == \"M\" or n == \"m\":\n",
    "    print()\n",
    "    print(\"Masculino\")\n",
    "elif n == \"F\" or n == \"f\":\n",
    "    print()\n",
    "    print(\"Feminino\")\n",
    "else:\n",
    "    print()\n",
    "    print(\"Sexo inválido\")"
   ]
  },
  {
   "cell_type": "markdown",
   "metadata": {},
   "source": [
    "### 4. Faça um Programa que verifique se uma letra digitada é vogal ou consoante."
   ]
  },
  {
   "cell_type": "code",
   "execution_count": null,
   "metadata": {},
   "outputs": [],
   "source": [
    "n = input(\"Digite uma letra: \")\n",
    "\n",
    "if n == \"A\" or n == \"a\" or n == \"e\" or n == \"E\" or n == \"I\" or n == \"i\" or n == \"O\" or n == \"o\" or n == \"U\" or n == \"u\":\n",
    "    print()\n",
    "    print(\"Vogal\")\n",
    "else:\n",
    "    print()\n",
    "    print(\"Consoante\")"
   ]
  },
  {
   "cell_type": "markdown",
   "metadata": {},
   "source": [
    "### 5. Faça um programa para a leitura de duas notas parciais de um aluno. O programa deve calcular a média alcançada por aluno e apresentar:\n",
    "\n",
    "    A mensagem \"Aprovado\", se a média alcançada for maior ou igual a sete;\n",
    "    A mensagem \"Reprovado\", se a média for menor do que sete;\n",
    "    A mensagem \"Aprovado com Distinção\", se a média for igual a dez. "
   ]
  },
  {
   "cell_type": "code",
   "execution_count": null,
   "metadata": {},
   "outputs": [],
   "source": [
    "n1 = float(input(\"Digite a primeira nota: \"))\n",
    "n2 = float(input(\"Digite a segunda nota: \"))\n",
    "\n",
    "media = (n1+n2)/2\n",
    "\n",
    "if media >= 7 and media < 10:\n",
    "    print (\"Aprovado\")\n",
    "elif media < 7:\n",
    "    print(\"Reprovado\")\n",
    "elif media == 10:\n",
    "    print(\"Aprovado com distinção\")"
   ]
  },
  {
   "cell_type": "markdown",
   "metadata": {},
   "source": [
    "### 6. Faça um Programa que leia três números e mostre o maior deles."
   ]
  },
  {
   "cell_type": "code",
   "execution_count": null,
   "metadata": {},
   "outputs": [],
   "source": [
    "n1 = int(input(\"Insira o primeiro número: \"))\n",
    "n2 = int(input(\"Insira o segundo número: \"))\n",
    "n3 = int(input(\"Insira o terceiro número: \"))\n",
    "\n",
    "maior = n1\n",
    "\n",
    "if n2 > maior:\n",
    "    maior = n2\n",
    "if n3 > maior:\n",
    "    maior = n3\n",
    "print(\"O número maior é \", maior)\n",
    "\n"
   ]
  },
  {
   "cell_type": "markdown",
   "metadata": {},
   "source": [
    "### 7. Faça um Programa que leia três números e mostre o maior e o menor deles. "
   ]
  },
  {
   "cell_type": "code",
   "execution_count": null,
   "metadata": {},
   "outputs": [],
   "source": [
    "n = int(input(\"Insira o primeiro número: \"))\n",
    "m = int(input(\"Insira o segundo número: \"))\n",
    "l = int(input(\"Insira o terceiro número: \"))\n",
    "\n",
    "maior = n\n",
    "menor = n\n",
    "\n",
    "if m > maior:\n",
    "    maior = m\n",
    "if l > maior:\n",
    "    maior = l\n",
    "if m < menor:\n",
    "    menor = m\n",
    "if l < menor:\n",
    "    menor = l\n",
    "    \n",
    "print()    \n",
    "print(\"O maior número é {}. O menor número é {}\".format(maior, menor))\n"
   ]
  },
  {
   "cell_type": "markdown",
   "metadata": {},
   "source": [
    "### 8. Faça um programa que pergunte o preço de três produtos e informe qual produto você deve comprar, sabendo que a decisão é sempre pelo mais barato. "
   ]
  },
  {
   "cell_type": "code",
   "execution_count": null,
   "metadata": {},
   "outputs": [],
   "source": [
    "import moeda #Moeda é uma função que escrevi só para formatar números no sistema monetário.\n",
    "n1 = int(input(\"Qual o valor do primeiro produto? \"))\n",
    "n2 = int(input(\"Qual o valor do segundo produto? \"))\n",
    "n3 = int(input(\"Qual o valor do terceiro produto? \"))\n",
    "\n",
    "menor = n1\n",
    "qual = \"primeiro\"\n",
    "\n",
    "if n2 < menor:\n",
    "    menor = n2\n",
    "    qual = \"segundo\"\n",
    "if n3 < menor:\n",
    "    menor = n3\n",
    "    qual = \"terceiro\"\n",
    "        \n",
    "print(\"Compre o {}, ele custa {}.\".format(qual, moeda.moeda(menor)))\n",
    "    \n",
    "    \n",
    "  "
   ]
  },
  {
   "cell_type": "markdown",
   "metadata": {},
   "source": [
    "### 9. Faça um Programa que leia três números e mostre-os em ordem decrescente. "
   ]
  },
  {
   "cell_type": "code",
   "execution_count": null,
   "metadata": {},
   "outputs": [],
   "source": [
    "n1 = int(input(\"Insira o primeiro número: \"))\n",
    "n2 = int(input(\"Insira o segundo número: \"))\n",
    "n3 = int(input(\"Insira o terceiro número: \"))\n",
    "\n",
    "primeiro = n1\n",
    "segundo = n1\n",
    "terceiro = n1\n",
    "\n",
    "if n2 > n1 and n2 > n3:\n",
    "    primeiro = n2\n",
    "elif n3 > n1 and n3 > n2:\n",
    "    primeiro = n3\n",
    "    \n",
    "if n2 < n1 and n2 < n3:\n",
    "    terceiro = n2\n",
    "elif n3 < n1 and n3 < n2:\n",
    "    terceiro  = n3\n",
    "    \n",
    "if n2 < primeiro and n2 > terceiro:\n",
    "    segundo = n2\n",
    "elif n3 < primeiro and n3 > terceiro:\n",
    "    segundo = n3\n",
    "    \n",
    "\n",
    "print(primeiro, segundo, terceiro)\n"
   ]
  },
  {
   "cell_type": "markdown",
   "metadata": {},
   "source": [
    "### 10. Faça um Programa que pergunte em que turno você estuda. Peça para digitar M-matutino ou V-Vespertino ou N- Noturno. Imprima a mensagem \"Bom Dia!\", \"Boa Tarde!\" ou \"Boa Noite!\" ou \"Valor Inválido!\", conforme o caso. "
   ]
  },
  {
   "cell_type": "code",
   "execution_count": null,
   "metadata": {},
   "outputs": [],
   "source": [
    "print(\"Digite M para matutino, V para vespertino ou N para Noturno\")\n",
    "periodo = input()\n",
    "\n",
    "\n",
    "if periodo == 'N' or periodo == 'n':\n",
    "    print()\n",
    "    print(\"Boa noite!\")\n",
    "elif periodo == 'M' or periodo == 'm':\n",
    "    print()\n",
    "    print(\"Boa tarde!\")\n",
    "elif periodo == 'V' or periodo == 'v':\n",
    "    print()\n",
    "    print(\"Bom dia!\")"
   ]
  },
  {
   "cell_type": "markdown",
   "metadata": {},
   "source": [
    "### 11. As Organizações Tabajara resolveram dar um aumento de salário aos seus colaboradores e lhe contraram para desenvolver o programa que calculará os reajustes.\n",
    "\n",
    "    Faça um programa que recebe o salário de um colaborador e o reajuste segundo o seguinte critério, baseado no salário atual:\n",
    "    salários até R$ 280,00 (incluindo) : aumento de 20%\n",
    "    salários entre R$ 280,00 e R$ 700,00 : aumento de 15%\n",
    "    salários entre R$ 700,00 e R$ 1500,00 : aumento de 10%\n",
    "    salários de R$ 1500,00 em diante : aumento de 5% Após o aumento ser realizado, informe na tela:\n",
    "    o salário antes do reajuste;\n",
    "    o percentual de aumento aplicado;\n",
    "    o valor do aumento;\n",
    "    o novo salário, após o aumento."
   ]
  },
  {
   "cell_type": "code",
   "execution_count": null,
   "metadata": {},
   "outputs": [],
   "source": [
    "import moeda as md\n",
    "salario = float(input(\"Qual seu salário? \"))\n",
    "reajuste = 0\n",
    "per = 0\n",
    "\n",
    "\n",
    "if salario <= 280:\n",
    "    per = 20\n",
    "    aumento = (salario*per)/100\n",
    "    reajuste = salario + aumento\n",
    "    \n",
    "elif salario in range (281,701):\n",
    "    per = 15\n",
    "    aumento = (salario*per)/100\n",
    "    reajuste = salario + aumento\n",
    "    \n",
    "elif salario in range (700,1501):\n",
    "    per = 10\n",
    "    aumento = (salario*per)/100\n",
    "    reajuste = salario + aumento\n",
    "    \n",
    "else:\n",
    "    per = 5\n",
    "    aumento = (salario*per)/100\n",
    "    reajuste = salario + aumento\n",
    "    \n",
    "    \n",
    "print(\"Seu salário era de {}. Acrescido {}%, você recebeu um aumento de {}. Agora seu salário é de {}. \"\n",
    "      .format(md.moeda(salario), per, md.moeda(aumento), md.moeda(reajuste)))"
   ]
  },
  {
   "cell_type": "markdown",
   "metadata": {},
   "source": [
    "### 12. Faça um programa para o cálculo de uma folha de pagamento, sabendo que os descontos são do Imposto de Renda, que depende do salário bruto (conforme tabela abaixo) e 3% para o Sindicato e que o FGTS corresponde a 11% do Salário Bruto, mas não é descontado (é a empresa que deposita). O Salário Líquido corresponde ao Salário Bruto menos os descontos. O programa deverá pedir ao usuário o valor da sua hora e a quantidade de horas trabalhadas no mês.\n",
    "\n",
    "    Desconto do IR:\n",
    "    Salário Bruto até 900 (inclusive) - isento\n",
    "    Salário Bruto até 1500 (inclusive) - desconto de 5%\n",
    "    Salário Bruto até 2500 (inclusive) - desconto de 10%\n",
    "    Salário Bruto acima de 2500 - desconto de 20% Imprima na tela as informações, dispostas conforme o exemplo abaixo. No exemplo o valor da hora é 5 e a quantidade de hora é 220. \n",
    "    \n",
    "            Salário Bruto: (5 * 220)        : R$ 1100,00\n",
    "            (-) IR (5%)                     : R$   55,00  \n",
    "            (-) INSS ( 10%)                 : R$  110,00\n",
    "            FGTS (11%)                      : R$  121,00\n",
    "            Total de descontos              : R$  165,00\n",
    "            Salário Liquido                 : R$  935,00*"
   ]
  },
  {
   "cell_type": "code",
   "execution_count": null,
   "metadata": {},
   "outputs": [],
   "source": [
    "import moeda\n",
    "hora = float(input(\"Quantidade de horas trabalhadas no mês: \"))\n",
    "valorhora = float(input(\"Valor da hora: \"))\n",
    "\n",
    "salarioBruto = hora*valorhora\n",
    "sindicato = salarioBruto*0.03\n",
    "FGTS = salarioBruto*0.11\n",
    "IR = 0\n",
    "INSS = salarioBruto*0.10\n",
    "\n",
    "if salarioBruto <= 900:\n",
    "    IR = 0\n",
    "elif salarioBruto in range (901, 1500):\n",
    "    faixa = 5\n",
    "    IR = (salarioBruto*faixa)/100\n",
    "elif salarioBruto in range (1501, 2500):\n",
    "    faixa = 10\n",
    "    IR = (salarioBruto*faixa)/100\n",
    "else:\n",
    "    faixa = 20\n",
    "    IR = (salarioBruto*faixa)/100\n",
    "\n",
    "salarioLiquido = salarioBruto - sindicato - INSS - IR\n",
    "\n",
    "print(\"Salário bruto: {}\".format(moeda.moeda(salarioBruto)))\n",
    "print(\"(-) Imposto de renda ({}%): {}\".format(faixa, moeda.moeda(IR)))\n",
    "print(\"(-) INSS (10%): {}\".format(moeda.moeda(INSS)))\n",
    "print(\"(-) Sindicato (3%): {} \".format(moeda.moeda(sindicato)))\n",
    "print(\"FGTS (11%): {} \".format(moeda.moeda(FGTS)))\n",
    "print(\"Total de descontos: {}\".format(moeda.moeda(INSS+sindicato+IR)))\n",
    "\n",
    "\n",
    "print(\"Salário líquido: {}\".format(moeda.moeda(salarioLiquido)))"
   ]
  },
  {
   "cell_type": "markdown",
   "metadata": {},
   "source": [
    "### 13. Faça um Programa que leia um número e exiba o dia correspondente da semana. (1-Domingo, 2- Segunda, etc.), se digitar outro valor deve aparecer valor inválido. "
   ]
  },
  {
   "cell_type": "code",
   "execution_count": null,
   "metadata": {},
   "outputs": [],
   "source": [
    "n = int(input(\"Digite um dia da semana: \"))\n",
    "\n",
    "if n == 1:\n",
    "    n = \"Domingo\"\n",
    "elif n == 2:\n",
    "    n = \"Segunda\"\n",
    "elif n == 3:\n",
    "    n = \"Terça\"\n",
    "elif n == 4:\n",
    "    n = \"Quarta\"\n",
    "elif n == 5:\n",
    "    n = \"Quinta\"\n",
    "elif n == 6:\n",
    "    n = \"Sexta\"\n",
    "elif n == 7:\n",
    "    n = \"Sábado\"\n",
    "else:\n",
    "    n = \"Valor inválido\"\n",
    "print(n)"
   ]
  },
  {
   "cell_type": "markdown",
   "metadata": {},
   "source": [
    "### 14. Faça um programa que lê as duas notas parciais obtidas por um aluno numa disciplina ao longo de um semestre, e calcule a sua média. A atribuição de conceitos obedece à tabela abaixo:\n",
    "\n",
    "    Média de Aproveitamento  Conceito\n",
    "      Entre 9.0 e 10.0        A\n",
    "      Entre 7.5 e 9.0         B\n",
    "      Entre 6.0 e 7.5         C\n",
    "      Entre 4.0 e 6.0         D\n",
    "      Entre 4.0 e zero        E\n",
    "      \n",
    "O algoritmo deve mostrar na tela as notas, a média, o conceito correspondente e a mensagem “APROVADO” se o conceito for A, B ou C ou “REPROVADO” se o conceito for D ou E. "
   ]
  },
  {
   "cell_type": "code",
   "execution_count": null,
   "metadata": {},
   "outputs": [],
   "source": [
    "import numpy\n",
    "n1 = float(input(\"Digite a primeira nota: \"))\n",
    "n2 = float(input(\"Digite a segunda nota: \"))\n",
    "media = (n1+n2)/2\n",
    "median = media\n",
    "\n",
    "if media < 4.0:\n",
    "    media = \"E\"\n",
    "elif media in numpy.arange(4, 6, 0.25):\n",
    "    media = \"D\"\n",
    "elif media in numpy.arange(6.0, 7.75, 0.25):\n",
    "    media = \"C\"\n",
    "elif media in numpy.arange(7.5, 9.25, 0.25):\n",
    "    media = \"B\"\n",
    "elif media > 9.0:\n",
    "    media = \"A\"\n",
    "\n",
    "aprov = media\n",
    "if aprov == \"A\" or aprov == \"B\" or aprov == \"C\":\n",
    "    aprov = \"aprovado!\"\n",
    "else:\n",
    "    aprov = \"reprovado!\"\n",
    "    \n",
    "print()\n",
    "print()\n",
    "print(\"Sua primeira nota foi {} e a segunda foi {}.\".format(n1, n2))\n",
    "print(\"Sua média é {}\".format(median))\n",
    "print(\"Seu conceito é {}\".format(media))\n",
    "print(\"E você está {}\".format(aprov))"
   ]
  },
  {
   "cell_type": "markdown",
   "metadata": {},
   "source": [
    "### 15. Faça um Programa que peça os 3 lados de um triângulo. O programa deverá informar se os valores podem ser um triângulo. Indique, caso os lados formem um triângulo, se o mesmo é: equilátero, isósceles ou escaleno.\n",
    "\n",
    "    Dicas:\n",
    "    Três lados formam um triângulo quando a soma de quaisquer dois lados for maior que o terceiro;\n",
    "    Triângulo Equilátero: três lados iguais;\n",
    "    Triângulo Isósceles: quaisquer dois lados iguais;\n",
    "    Triângulo Escaleno: três lados diferentes; "
   ]
  },
  {
   "cell_type": "code",
   "execution_count": null,
   "metadata": {},
   "outputs": [],
   "source": [
    "l1 = int(input(\"Insira o primerio lado: \"))\n",
    "l2 = int(input(\"Insira o segundo lado: \"))\n",
    "l3 = int(input(\"Insira o terceiro lado: \"))\n",
    "\n",
    "triangulo = 0\n",
    "\n",
    "if l1+l2 <= l3 or l2+l3 <= l1 or l3+l1 <= l2 :\n",
    "    triangulo = \"Não é um triângulo!\"\n",
    "    \n",
    "elif l1==l2 and l1==l3:\n",
    "    triangulo = \"Equilátero\"\n",
    "elif l1 != l2 and l1 != l3 and l2!=l3:\n",
    "    triangulo = \"Escaleno\"\n",
    "else:\n",
    "    triangulo = \"Isósceles\"\n",
    "    \n",
    "print()    \n",
    "print(triangulo)"
   ]
  },
  {
   "cell_type": "markdown",
   "metadata": {},
   "source": [
    "### 16. Faça um programa que calcule as raízes de uma equação do segundo grau, na forma ax2 + bx + c. O programa deverá pedir os valores de a, b e c e fazer as consistências, informando ao usuário nas seguintes situações:\n",
    "\n",
    "    Se o usuário informar o valor de A igual a zero, a equação não é do segundo grau e o programa não deve fazer pedir os demais valores, sendo encerrado;\n",
    "    Se o delta calculado for negativo, a equação não possui raizes reais. Informe ao usuário e encerre o programa;\n",
    "    Se o delta calculado for igual a zero a equação possui apenas uma raiz real; informe-a ao usuário;\n",
    "    Se o delta for positivo, a equação possui duas raiz reais; informe-as ao usuário; "
   ]
  },
  {
   "cell_type": "code",
   "execution_count": 69,
   "metadata": {},
   "outputs": [
    {
     "name": "stdout",
     "output_type": "stream",
     "text": [
      "Insira o primeiro número: 10\n",
      "Insira o segundo número: 3\n",
      "Insira o terceiro número: -7\n",
      "A equação possui duas raizes reais que são 0.7 e -1.0!\n"
     ]
    }
   ],
   "source": [
    "import numpy as np\n",
    "a = int(input(\"Insira o primeiro número: \"))\n",
    "b = int(input(\"Insira o segundo número: \"))\n",
    "c = int(input(\"Insira o terceiro número: \"))\n",
    "x = 0\n",
    "delta = b**2 - 4*a*c\n",
    "\n",
    "if a == 0:\n",
    "    print(\"A equação não é do segundo grau!\")\n",
    "elif delta < 0:\n",
    "    print(\"A equação não possui valores reais!\")\n",
    "elif delta == 0:\n",
    "    x = (-b + np.sqrt(delta))/(2*a)\n",
    "    print(\"A equação possui apenas uma raiz real igual a {}!\".format(x))\n",
    "elif delta > 0:\n",
    "    x1 = (-b + np.sqrt(delta))/(2*a)\n",
    "    x2 = (-b - np.sqrt(delta))/(2*a)\n",
    "    print(\"A equação possui duas raizes reais que são {} e {}!\".format(x1, x2))\n"
   ]
  },
  {
   "cell_type": "markdown",
   "metadata": {},
   "source": [
    "### 17. Faça um Programa que peça um número correspondente a um determinado ano e em seguida informe se este ano é ou não bissexto. "
   ]
  },
  {
   "cell_type": "code",
   "execution_count": 27,
   "metadata": {},
   "outputs": [
    {
     "name": "stdout",
     "output_type": "stream",
     "text": [
      "Digite o ano: 2072\n",
      "Bissexto\n"
     ]
    }
   ],
   "source": [
    "ano = int(input(\"Digite o ano: \"))\n",
    "\n",
    "if ano % 4 == 0 and ano % 100 != 0:\n",
    "    print(\"Bissexto\")\n",
    "elif ano % 4 == 0 and ano % 400 == 0:\n",
    "    print(\"É um ano bissexto\")\n",
    "else:\n",
    "    print(\"Não é bissexto\")\n"
   ]
  },
  {
   "cell_type": "markdown",
   "metadata": {},
   "source": [
    "### 19. Faça um Programa que leia um número inteiro menor que 1000 e imprima a quantidade de centenas, dezenas e unidades do mesmo.\n",
    "\n",
    "    Observando os termos no plural a colocação do \"e\", da vírgula entre outros. Exemplo:\n",
    "    326 = 3 centenas, 2 dezenas e 6 unidades\n",
    "    12 = 1 dezena e 2 unidades Testar com: 326, 300, 100, 320, 310,305, 301, 101, 311, 111, 25, 20, 10, 21, 11, 1, 7 e 16 "
   ]
  },
  {
   "cell_type": "code",
   "execution_count": 18,
   "metadata": {},
   "outputs": [
    {
     "name": "stdout",
     "output_type": "stream",
     "text": [
      "Digite um número: 1\n",
      "0 centena, 0 dezena e 1 unidade.\n"
     ]
    }
   ],
   "source": [
    "n = int(input(\"Digite um número: \"))\n",
    "\n",
    "\n",
    "unidade = n%10\n",
    "n = n - unidade\n",
    "\n",
    "dezena = n%100\n",
    "n -= dezena\n",
    "dezena = int(dezena/10)\n",
    "\n",
    "centena = n%1000\n",
    "n -= centena\n",
    "centena = int(centena/100)\n",
    "\n",
    "if centena > 1 and dezena > 1 and unidade > 1:\n",
    "    print(\"{} centenas, {} dezenas e {} unidades.\".format(centena, dezena, unidade))\n",
    "elif centena <= 1 and dezena <= 1 and unidade <= 1:\n",
    "    print(\"{} centena, {} dezena e {} unidade.\".format(centena, dezena, unidade))\n",
    "elif centena <= 1 and dezena > 1 and unidade > 1:\n",
    "    print(\"{} centena, {} dezenas e {} unidades.\".format(centena, dezena, unidade))\n",
    "elif centena > 1 and dezena <= 1 and unidade > 1:\n",
    "    print(\"{} centenas, {} dezena e {} unidades.\".format(centena, dezena, unidade))\n",
    "elif centena > 1 and dezena > 1 and unidade <= 1:\n",
    "    print(\"{} centenas, {} dezenas e {} unidade.\".format(centena, dezena, unidade))\n",
    "elif centena <= 1 and dezena <= 1 and unidade > 1:\n",
    "    print(\"{} centena, {} dezena e {} unidades.\".format(centena, dezena, unidade))\n",
    "elif centena <= 1 and dezena > 1 and unidade <= 1:\n",
    "    print(\"{} centena, {} dezenas e {} unidade.\".format(centena, dezena, unidade))\n",
    "elif centena > 1 and dezena <= 1 and unidade <= 1:\n",
    "    print(\"{} centenas, {} dezena e {} unidade.\".format(centena, dezena, unidade))\n"
   ]
  },
  {
   "cell_type": "markdown",
   "metadata": {},
   "source": [
    "### 21. Faça um Programa para um caixa eletrônico. O programa deverá perguntar ao usuário a valor do saque e depois informar quantas notas de cada valor serão fornecidas. As notas disponíveis serão as de 1, 5, 10, 50 e 100 reais. O valor mínimo é de 10 reais e o máximo de 600 reais. O programa não deve se preocupar com a quantidade de notas existentes na máquina.\n",
    "\n",
    "    a. Exemplo 1: Para sacar a quantia de 256 reais, o programa fornece duas notas de 100, uma nota de 50, uma nota de 5 e uma nota de 1;\n",
    "    b. Exemplo 2: Para sacar a quantia de 399 reais, o programa fornece três notas de 100, uma nota de 50, quatro notas de 10, uma nota de 5 e quatro notas de 1. "
   ]
  },
  {
   "cell_type": "code",
   "execution_count": 63,
   "metadata": {},
   "outputs": [
    {
     "name": "stdout",
     "output_type": "stream",
     "text": [
      "Qual o valor do saque? 256\n",
      "\n",
      "Você receberá: \n",
      "2 notas de cem\n",
      "1 nota de cinquenta\n",
      "1 nota de cinco\n",
      "1 nota de um\n"
     ]
    }
   ],
   "source": [
    "saque = int(input(\"Qual o valor do saque? \"))\n",
    "\n",
    "if saque < 10 or saque > 600:\n",
    "    print(\"Valor inválido.\")\n",
    "\n",
    "cem = saque//100\n",
    "saque = saque-(cem*100)\n",
    "\n",
    "cinquenta = saque//50\n",
    "saque = saque-(cinquenta*50)\n",
    "\n",
    "dez = saque//10\n",
    "saque = saque - (dez*10)\n",
    "\n",
    "cinco = saque//5\n",
    "saque = saque - (cinco*5)\n",
    "\n",
    "um = saque\n",
    "\n",
    "print()\n",
    "print(\"Você receberá: \")\n",
    "if cem > 1:\n",
    "    print(cem,\"notas de cem\")\n",
    "elif cem == 1:\n",
    "    print(cem,\"nota de cem\")\n",
    "    \n",
    "if cinquenta > 1:\n",
    "    print(cinquenta,\"notas de cinquenta\")\n",
    "elif cinquenta == 1:\n",
    "    print(cinquenta,\"nota de cinquenta\")\n",
    "    \n",
    "if dez > 1:\n",
    "    print(dez,\"notas de dez\")\n",
    "elif dez == 1:\n",
    "    print(dez,\"nota de dez\")\n",
    "\n",
    "if cinco > 1:\n",
    "    print(cinco,\"notas de cinco\")\n",
    "elif cinco == 1:\n",
    "    print(cinco,\"nota de cinco\")\n",
    "    \n",
    "if um > 1:\n",
    "    print(um,\"notas de um\")\n",
    "elif um == 1:\n",
    "    print(um,\"nota de um\")"
   ]
  },
  {
   "cell_type": "markdown",
   "metadata": {},
   "source": [
    "### 22. Faça um Programa que peça um número inteiro e determine se ele é par ou impar. Dica: utilize o operador módulo (resto da divisão). "
   ]
  },
  {
   "cell_type": "code",
   "execution_count": 70,
   "metadata": {},
   "outputs": [
    {
     "name": "stdout",
     "output_type": "stream",
     "text": [
      "Digite um número: 555\n",
      "Ímpar\n"
     ]
    }
   ],
   "source": [
    "n = int(input(\"Digite um número: \"))\n",
    "\n",
    "if n%2 != 0:\n",
    "    print(\"Ímpar\")\n",
    "else:\n",
    "    print(\"Par\")"
   ]
  },
  {
   "cell_type": "markdown",
   "metadata": {},
   "source": [
    "### 23. Faça um Programa que peça um número e informe se o número é inteiro ou decimal. Dica: utilize uma função de arredondamento. "
   ]
  },
  {
   "cell_type": "code",
   "execution_count": 7,
   "metadata": {},
   "outputs": [
    {
     "name": "stdout",
     "output_type": "stream",
     "text": [
      "Insira um número: 5.5\n",
      "Decimal\n"
     ]
    }
   ],
   "source": [
    "    n = float(input(\"Insira um número: \"))\n",
    "\n",
    "    if n%2 == 0 or n%2 == 1:\n",
    "        print(\"Inteiro\")\n",
    "    elif n%3 == 0 or n%3 == 1:\n",
    "        print(\"Inteiro\")\n",
    "    else:\n",
    "        print(\"Decimal\")"
   ]
  },
  {
   "cell_type": "markdown",
   "metadata": {},
   "source": [
    "### 24. Faça um Programa que leia 2 números e em seguida pergunte ao usuário qual operação ele deseja realizar. O resultado da operação deve ser acompanhado de uma frase que diga se o número é:\n",
    "\n",
    "    par ou ímpar;\n",
    "    positivo ou negativo;\n",
    "    inteiro ou decimal. "
   ]
  },
  {
   "cell_type": "code",
   "execution_count": 3,
   "metadata": {},
   "outputs": [
    {
     "name": "stdout",
     "output_type": "stream",
     "text": [
      "Overwriting parimpar.py\n"
     ]
    }
   ],
   "source": [
    "%%writefile parimpar.py\n",
    "def parimpar(n):\n",
    "    \n",
    "    if n%2 != 0:\n",
    "        return \"Ímpar\"\n",
    "    else:\n",
    "        return \"Par\""
   ]
  },
  {
   "cell_type": "code",
   "execution_count": 3,
   "metadata": {},
   "outputs": [
    {
     "name": "stdout",
     "output_type": "stream",
     "text": [
      "Overwriting pos_neg.py\n"
     ]
    }
   ],
   "source": [
    "%%writefile pos_neg.py\n",
    "def pos_neg(n):\n",
    "    if n > 0:\n",
    "        return 'Positivo'\n",
    "    else:\n",
    "        return 'Negativo'\n",
    "    "
   ]
  },
  {
   "cell_type": "code",
   "execution_count": 2,
   "metadata": {},
   "outputs": [
    {
     "name": "stdout",
     "output_type": "stream",
     "text": [
      "Overwriting deci.py\n"
     ]
    }
   ],
   "source": [
    "%%writefile deci.py\n",
    "def deci(n):\n",
    "    if n%2 == 0 or n%2 == 1:\n",
    "        return \"Inteiro\"\n",
    "    elif n%3 == 0 or n%3 == 1:\n",
    "        return \"Inteiro\"\n",
    "    else:\n",
    "        return \"Decimal\""
   ]
  },
  {
   "cell_type": "code",
   "execution_count": 6,
   "metadata": {},
   "outputs": [
    {
     "name": "stdout",
     "output_type": "stream",
     "text": [
      "Insira o primeiro número: 5\n",
      "Insira o segundo número: 5\n",
      "Qual operação deseja executar? [+,-,x,%] x\n",
      "\n",
      "25.0\n",
      "Positivo\n",
      "Ímpar\n",
      "Inteiro\n"
     ]
    }
   ],
   "source": [
    "import deci\n",
    "import parimpar\n",
    "import pos_neg\n",
    "\n",
    "n1 = float(input(\"Insira o primeiro número: \"))\n",
    "n2 = float(input(\"Insira o segundo número: \"))\n",
    "operacao = input(\"Qual operação deseja executar? [+,-,x,%] \")\n",
    "\n",
    "if operacao == '+':\n",
    "    result = n1+n2\n",
    "elif operacao == '-':\n",
    "    result = n1-n2\n",
    "elif operacao == 'x' or operacao == \"X\":\n",
    "    result = n1*n2\n",
    "elif operacao == '%':\n",
    "    result = n1/n2\n",
    "else:\n",
    "    print(\"Operação não encontrada!\")\n",
    "\n",
    "print()\n",
    "print(result)    \n",
    "print(pos_neg.pos_neg(result))\n",
    "print(parimpar.parimpar(result))\n",
    "print(deci.deci(result))"
   ]
  },
  {
   "cell_type": "code",
   "execution_count": 1,
   "metadata": {},
   "outputs": [
    {
     "name": "stdout",
     "output_type": "stream",
     "text": [
      "Errado\n"
     ]
    }
   ],
   "source": [
    "import pos_neg\n",
    "pos_neg.pos_neg(-25)"
   ]
  },
  {
   "cell_type": "code",
   "execution_count": 17,
   "metadata": {},
   "outputs": [],
   "source": [
    "import pos_neg\n"
   ]
  },
  {
   "cell_type": "code",
   "execution_count": 19,
   "metadata": {},
   "outputs": [
    {
     "name": "stdout",
     "output_type": "stream",
     "text": [
      "Negativo\n"
     ]
    }
   ],
   "source": [
    "pos_neg.pos_neg(-10)"
   ]
  },
  {
   "cell_type": "code",
   "execution_count": null,
   "metadata": {},
   "outputs": [],
   "source": [
    "decinal"
   ]
  }
 ],
 "metadata": {
  "kernelspec": {
   "display_name": "Python 3",
   "language": "python",
   "name": "python3"
  },
  "language_info": {
   "codemirror_mode": {
    "name": "ipython",
    "version": 3
   },
   "file_extension": ".py",
   "mimetype": "text/x-python",
   "name": "python",
   "nbconvert_exporter": "python",
   "pygments_lexer": "ipython3",
   "version": "3.7.6"
  }
 },
 "nbformat": 4,
 "nbformat_minor": 4
}
